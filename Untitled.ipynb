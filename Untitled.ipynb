{
 "cells": [
  {
   "cell_type": "code",
   "execution_count": 4,
   "id": "71c81dbd",
   "metadata": {},
   "outputs": [
    {
     "name": "stdout",
     "output_type": "stream",
     "text": [
      "      X     Y\n",
      "0   632  8231\n",
      "1  4367   315\n",
      "2  1933  3578\n",
      "3  4224  5496\n",
      "4  2818  3023\n",
      "      X     Y\n",
      "0  5522  3130\n",
      "1  7095  7790\n",
      "2  4618  7640\n",
      "3  1315  5611\n",
      "4  3443  6766\n"
     ]
    }
   ],
   "source": [
    "import random\n",
    "import pandas as pd\n",
    "\n",
    "num_points = 5000\n",
    "num_clusters = 7\n",
    "    \n",
    "dataset = pd.DataFrame([(int(random.uniform(0, 10000)), int(random.uniform(0, 10000))) for i in range(num_points)])\n",
    "dataset.columns = ['X', 'Y']\n",
    "print(dataset.head())\n",
    "dataset.to_csv('DataSet.csv', encoding = 'utf-8-sig', index = False)\n",
    "\n",
    "seed_points = pd.DataFrame([(int(random.uniform(0, 10000)), int(random.uniform(0, 10000))) for i in range(num_clusters)])\n",
    "seed_points.columns = ['X', 'Y']\n",
    "print(seed_points.head())\n",
    "seed_points.to_csv('SeedPoints.csv', encoding = 'utf-8-sig', index = False)"
   ]
  },
  {
   "cell_type": "code",
   "execution_count": null,
   "id": "568891de",
   "metadata": {},
   "outputs": [],
   "source": []
  }
 ],
 "metadata": {
  "kernelspec": {
   "display_name": "Python 3 (ipykernel)",
   "language": "python",
   "name": "python3"
  },
  "language_info": {
   "codemirror_mode": {
    "name": "ipython",
    "version": 3
   },
   "file_extension": ".py",
   "mimetype": "text/x-python",
   "name": "python",
   "nbconvert_exporter": "python",
   "pygments_lexer": "ipython3",
   "version": "3.9.13"
  }
 },
 "nbformat": 4,
 "nbformat_minor": 5
}
