{
 "cells": [
  {
   "cell_type": "code",
   "execution_count": 13,
   "id": "73991ace",
   "metadata": {},
   "outputs": [
    {
     "name": "stdout",
     "output_type": "stream",
     "text": [
      "New Centroids:\n",
      "[[8477.63468635 1712.46678967]\n",
      " [8748.20289855 8308.08454106]\n",
      " [5996.65352697 8350.58713693]\n",
      " [1597.59160305 4846.44274809]\n",
      " [8189.21699819 5044.92766727]\n",
      " [3759.1619256  7322.78118162]\n",
      " [5147.80379747 1279.58860759]\n",
      " [1459.22774327 8450.0931677 ]\n",
      " [4944.39587629 4206.42886598]\n",
      " [1694.6109215  1669.94709898]]\n",
      "Silhouette Score: 0.3545941787661787\n"
     ]
    }
   ],
   "source": [
    "import pandas as pd\n",
    "from sklearn.cluster import KMeans\n",
    "from sklearn.metrics import silhouette_score\n",
    "\n",
    "centers_df = pd.read_csv('SeedPoints.csv')\n",
    "points_df = pd.read_csv('DataSet.csv')\n",
    "\n",
    "centers = centers_df[['X', 'Y']].values\n",
    "points = points_df[['X', 'Y']].values\n",
    "\n",
    "kmeans = KMeans(n_clusters=len(centers), init=centers, n_init=1)\n",
    "kmeans.fit(points)\n",
    "\n",
    "new_centers = kmeans.cluster_centers_\n",
    "\n",
    "labels = kmeans.labels_\n",
    "silhouette_avg = silhouette_score(points, labels)\n",
    "\n",
    "print(\"New Centroids:\")\n",
    "print(new_centers)\n",
    "print(f\"Silhouette Score: {silhouette_avg}\")"
   ]
  }
 ],
 "metadata": {
  "kernelspec": {
   "display_name": "Python 3 (ipykernel)",
   "language": "python",
   "name": "python3"
  },
  "language_info": {
   "codemirror_mode": {
    "name": "ipython",
    "version": 3
   },
   "file_extension": ".py",
   "mimetype": "text/x-python",
   "name": "python",
   "nbconvert_exporter": "python",
   "pygments_lexer": "ipython3",
   "version": "3.9.13"
  }
 },
 "nbformat": 4,
 "nbformat_minor": 5
}
