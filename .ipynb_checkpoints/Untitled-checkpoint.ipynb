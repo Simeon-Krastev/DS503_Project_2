{
 "cells": [
  {
   "cell_type": "code",
   "execution_count": 7,
   "id": "66557d34",
   "metadata": {},
   "outputs": [
    {
     "name": "stdout",
     "output_type": "stream",
     "text": [
      "             X            Y\n",
      "0  6499.838219  9005.141254\n",
      "1  3668.836827  9502.555380\n",
      "2  1459.676157  5689.692652\n",
      "3  6102.739710  4505.594061\n",
      "4  6535.264935  2075.347426\n",
      "             0            1\n",
      "0  1510.883365  7110.549190\n",
      "1  2260.308378  6530.921429\n",
      "2  3715.588158  3884.860651\n"
     ]
    }
   ],
   "source": [
    "import random\n",
    "import pandas as pd\n",
    "\n",
    "num_points = 100\n",
    "num_clusters = 3\n",
    "    \n",
    "dataset = pd.DataFrame([(random.uniform(0, 10000), random.uniform(0, 10000)) for i in range(num_points)])\n",
    "dataset.columns = ['X', 'Y']\n",
    "print(dataset.head())\n",
    "dataset.to_csv('DataSet.csv', encoding = 'utf-8-sig', index = False)\n",
    "\n",
    "seed_points = pd.DataFrame([(random.uniform(0, 10000), random.uniform(0, 10000)) for i in range(num_clusters)])\n",
    "seed_points.columns = ['X', 'Y']\n",
    "print(seed_points.head())\n",
    "seed_points.to_csv('SeedPoints.csv', encoding = 'utf-8-sig', index = False)"
   ]
  }
 ],
 "metadata": {
  "kernelspec": {
   "display_name": "Python 3 (ipykernel)",
   "language": "python",
   "name": "python3"
  },
  "language_info": {
   "codemirror_mode": {
    "name": "ipython",
    "version": 3
   },
   "file_extension": ".py",
   "mimetype": "text/x-python",
   "name": "python",
   "nbconvert_exporter": "python",
   "pygments_lexer": "ipython3",
   "version": "3.9.13"
  }
 },
 "nbformat": 4,
 "nbformat_minor": 5
}
